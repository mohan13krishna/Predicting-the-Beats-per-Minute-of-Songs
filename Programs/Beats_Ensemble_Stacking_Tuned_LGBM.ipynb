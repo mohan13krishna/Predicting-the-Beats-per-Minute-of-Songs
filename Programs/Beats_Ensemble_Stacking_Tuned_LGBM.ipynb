{
 "cells": [
  {
   "cell_type": "markdown",
   "id": "219abaa0",
   "metadata": {},
   "source": [
    "# Import libraries"
   ]
  },
  {
   "cell_type": "code",
   "execution_count": 1,
   "id": "aada779a",
   "metadata": {},
   "outputs": [],
   "source": [
    "import pandas as pd\n",
    "import numpy as np\n",
    "from sklearn.model_selection import train_test_split, KFold\n",
    "from sklearn.preprocessing import StandardScaler\n",
    "from sklearn.linear_model import LinearRegression\n",
    "from sklearn.ensemble import RandomForestRegressor\n",
    "import xgboost as xgb\n",
    "import lightgbm as lgb\n",
    "from sklearn.metrics import mean_squared_error"
   ]
  },
  {
   "cell_type": "markdown",
   "id": "aa7586bd",
   "metadata": {},
   "source": [
    "# Load data"
   ]
  },
  {
   "cell_type": "code",
   "execution_count": 2,
   "id": "95589a99",
   "metadata": {},
   "outputs": [],
   "source": [
    "train = pd.read_csv('train.csv')\n",
    "test = pd.read_csv('test.csv')\n",
    "submission = pd.read_csv('sample_submission.csv')"
   ]
  },
  {
   "cell_type": "markdown",
   "id": "f42b4c2f",
   "metadata": {},
   "source": [
    "# Define features"
   ]
  },
  {
   "cell_type": "code",
   "execution_count": 3,
   "id": "7bd23013",
   "metadata": {},
   "outputs": [],
   "source": [
    "features = ['RhythmScore', 'AudioLoudness', 'VocalContent', 'AcousticQuality', \n",
    "            'InstrumentalScore', 'LivePerformanceLikelihood', 'MoodScore', \n",
    "            'TrackDurationMs', 'Energy']\n",
    "X = train[features]\n",
    "y = train['BeatsPerMinute']\n",
    "X_test = test[features]"
   ]
  },
  {
   "cell_type": "markdown",
   "id": "c7f4730e",
   "metadata": {},
   "source": [
    "# Feature engineering: Log-transform skewed features"
   ]
  },
  {
   "cell_type": "code",
   "execution_count": 4,
   "id": "6eb69e6b",
   "metadata": {},
   "outputs": [
    {
     "name": "stderr",
     "output_type": "stream",
     "text": [
      "C:\\Users\\nishi\\AppData\\Local\\Temp\\ipykernel_21292\\3028610528.py:1: SettingWithCopyWarning: \n",
      "A value is trying to be set on a copy of a slice from a DataFrame.\n",
      "Try using .loc[row_indexer,col_indexer] = value instead\n",
      "\n",
      "See the caveats in the documentation: https://pandas.pydata.org/pandas-docs/stable/user_guide/indexing.html#returning-a-view-versus-a-copy\n",
      "  X['AudioLoudness'] = np.log1p(-X['AudioLoudness'])\n",
      "C:\\Users\\nishi\\AppData\\Local\\Temp\\ipykernel_21292\\3028610528.py:2: SettingWithCopyWarning: \n",
      "A value is trying to be set on a copy of a slice from a DataFrame.\n",
      "Try using .loc[row_indexer,col_indexer] = value instead\n",
      "\n",
      "See the caveats in the documentation: https://pandas.pydata.org/pandas-docs/stable/user_guide/indexing.html#returning-a-view-versus-a-copy\n",
      "  X_test['AudioLoudness'] = np.log1p(-X_test['AudioLoudness'])\n",
      "C:\\Users\\nishi\\AppData\\Local\\Temp\\ipykernel_21292\\3028610528.py:3: SettingWithCopyWarning: \n",
      "A value is trying to be set on a copy of a slice from a DataFrame.\n",
      "Try using .loc[row_indexer,col_indexer] = value instead\n",
      "\n",
      "See the caveats in the documentation: https://pandas.pydata.org/pandas-docs/stable/user_guide/indexing.html#returning-a-view-versus-a-copy\n",
      "  X['TrackDurationMs'] = np.log1p(X['TrackDurationMs'])\n",
      "C:\\Users\\nishi\\AppData\\Local\\Temp\\ipykernel_21292\\3028610528.py:4: SettingWithCopyWarning: \n",
      "A value is trying to be set on a copy of a slice from a DataFrame.\n",
      "Try using .loc[row_indexer,col_indexer] = value instead\n",
      "\n",
      "See the caveats in the documentation: https://pandas.pydata.org/pandas-docs/stable/user_guide/indexing.html#returning-a-view-versus-a-copy\n",
      "  X_test['TrackDurationMs'] = np.log1p(X_test['TrackDurationMs'])\n"
     ]
    }
   ],
   "source": [
    "X['AudioLoudness'] = np.log1p(-X['AudioLoudness'])\n",
    "X_test['AudioLoudness'] = np.log1p(-X_test['AudioLoudness'])\n",
    "X['TrackDurationMs'] = np.log1p(X['TrackDurationMs'])\n",
    "X_test['TrackDurationMs'] = np.log1p(X_test['TrackDurationMs'])"
   ]
  },
  {
   "cell_type": "markdown",
   "id": "6f32b713",
   "metadata": {},
   "source": [
    "# Split data (80/20 for holdout and meta-training)"
   ]
  },
  {
   "cell_type": "code",
   "execution_count": 5,
   "id": "7009c1ec",
   "metadata": {},
   "outputs": [],
   "source": [
    "X_train_full, X_holdout, y_train_full, y_holdout = train_test_split(X, y, test_size=0.2, random_state=42)"
   ]
  },
  {
   "cell_type": "markdown",
   "id": "ff8d2d3c",
   "metadata": {},
   "source": [
    "# Standardize features"
   ]
  },
  {
   "cell_type": "code",
   "execution_count": 6,
   "id": "12544569",
   "metadata": {},
   "outputs": [],
   "source": [
    "scaler = StandardScaler()\n",
    "X_train_full_scaled = scaler.fit_transform(X_train_full)\n",
    "X_holdout_scaled = scaler.transform(X_holdout)\n",
    "X_test_scaled = scaler.transform(X_test)"
   ]
  },
  {
   "cell_type": "markdown",
   "id": "1bf90c8e",
   "metadata": {},
   "source": [
    "# Train Base Models"
   ]
  },
  {
   "cell_type": "markdown",
   "id": "7ae47313",
   "metadata": {},
   "source": [
    "# Linear Regression"
   ]
  },
  {
   "cell_type": "code",
   "execution_count": 7,
   "id": "5bb1e732",
   "metadata": {},
   "outputs": [
    {
     "name": "stdout",
     "output_type": "stream",
     "text": [
      "Linear RMSE: 26.4440\n"
     ]
    }
   ],
   "source": [
    "lr = LinearRegression()\n",
    "lr.fit(X_train_full_scaled, y_train_full)\n",
    "lr_holdout_pred = lr.predict(X_holdout_scaled)\n",
    "lr_rmse = np.sqrt(mean_squared_error(y_holdout, lr_holdout_pred))\n",
    "print(f\"Linear RMSE: {lr_rmse:.4f}\")"
   ]
  },
  {
   "cell_type": "markdown",
   "id": "a313b8a1",
   "metadata": {},
   "source": [
    "# Random Forest (your best params)"
   ]
  },
  {
   "cell_type": "code",
   "execution_count": 8,
   "id": "aaa23482",
   "metadata": {},
   "outputs": [
    {
     "name": "stdout",
     "output_type": "stream",
     "text": [
      "RF RMSE: 26.4398\n"
     ]
    }
   ],
   "source": [
    "rf = RandomForestRegressor(n_estimators=150, max_depth=10, min_samples_split=5, random_state=42, n_jobs=-1)\n",
    "rf.fit(X_train_full_scaled, y_train_full)\n",
    "rf_holdout_pred = rf.predict(X_holdout_scaled)\n",
    "rf_rmse = np.sqrt(mean_squared_error(y_holdout, rf_holdout_pred))\n",
    "print(f\"RF RMSE: {rf_rmse:.4f}\")"
   ]
  },
  {
   "cell_type": "markdown",
   "id": "0262e8ca",
   "metadata": {},
   "source": [
    "# XGBoost with tuned params"
   ]
  },
  {
   "cell_type": "code",
   "execution_count": 9,
   "id": "2cb239c7",
   "metadata": {},
   "outputs": [
    {
     "name": "stdout",
     "output_type": "stream",
     "text": [
      "XGBoost RMSE: 26.4439\n"
     ]
    }
   ],
   "source": [
    "xgb_model = xgb.XGBRegressor(n_estimators=120, learning_rate=0.05, max_depth=5, random_state=42)\n",
    "xgb_model.fit(X_train_full_scaled, y_train_full)\n",
    "xgb_holdout_pred = xgb_model.predict(X_holdout_scaled)\n",
    "xgb_rmse = np.sqrt(mean_squared_error(y_holdout, xgb_holdout_pred))\n",
    "print(f\"XGBoost RMSE: {xgb_rmse:.4f}\")"
   ]
  },
  {
   "cell_type": "markdown",
   "id": "dce0bfee",
   "metadata": {},
   "source": [
    "# LightGBM with tuned params"
   ]
  },
  {
   "cell_type": "code",
   "execution_count": 10,
   "id": "13775c9e",
   "metadata": {},
   "outputs": [
    {
     "name": "stdout",
     "output_type": "stream",
     "text": [
      "[LightGBM] [Info] Auto-choosing row-wise multi-threading, the overhead of testing was 0.003778 seconds.\n",
      "You can set `force_row_wise=true` to remove the overhead.\n",
      "And if memory is not enough, you can set `force_col_wise=true`.\n",
      "[LightGBM] [Info] Total Bins 2295\n",
      "[LightGBM] [Info] Number of data points in the train set: 419331, number of used features: 9\n",
      "[LightGBM] [Info] Start training from score 119.056554\n",
      "LightGBM RMSE: 26.4417\n"
     ]
    },
    {
     "name": "stderr",
     "output_type": "stream",
     "text": [
      "c:\\Users\\nishi\\Downloads\\playground-series-s5e9\\playground-series-s5e9\\venv\\Lib\\site-packages\\sklearn\\utils\\validation.py:2749: UserWarning: X does not have valid feature names, but LGBMRegressor was fitted with feature names\n",
      "  warnings.warn(\n"
     ]
    }
   ],
   "source": [
    "lgb_model = lgb.LGBMRegressor(n_estimators=250, learning_rate=0.03, max_depth=7, random_state=42, n_jobs=-1)\n",
    "lgb_model.fit(X_train_full_scaled, y_train_full)\n",
    "lgb_holdout_pred = lgb_model.predict(X_holdout_scaled)\n",
    "lgb_rmse = np.sqrt(mean_squared_error(y_holdout, lgb_holdout_pred))\n",
    "print(f\"LightGBM RMSE: {lgb_rmse:.4f}\")"
   ]
  },
  {
   "cell_type": "markdown",
   "id": "6c733ca0",
   "metadata": {},
   "source": [
    "# Generate meta-features (predictions) for stacking"
   ]
  },
  {
   "cell_type": "code",
   "execution_count": 11,
   "id": "a2eb58a4",
   "metadata": {},
   "outputs": [
    {
     "name": "stdout",
     "output_type": "stream",
     "text": [
      "[LightGBM] [Info] Auto-choosing row-wise multi-threading, the overhead of testing was 0.003343 seconds.\n",
      "You can set `force_row_wise=true` to remove the overhead.\n",
      "And if memory is not enough, you can set `force_col_wise=true`.\n",
      "[LightGBM] [Info] Total Bins 2295\n",
      "[LightGBM] [Info] Number of data points in the train set: 335464, number of used features: 9\n",
      "[LightGBM] [Info] Start training from score 119.062610\n"
     ]
    },
    {
     "name": "stderr",
     "output_type": "stream",
     "text": [
      "c:\\Users\\nishi\\Downloads\\playground-series-s5e9\\playground-series-s5e9\\venv\\Lib\\site-packages\\sklearn\\utils\\validation.py:2749: UserWarning: X does not have valid feature names, but LGBMRegressor was fitted with feature names\n",
      "  warnings.warn(\n"
     ]
    },
    {
     "name": "stdout",
     "output_type": "stream",
     "text": [
      "[LightGBM] [Info] Auto-choosing row-wise multi-threading, the overhead of testing was 0.002273 seconds.\n",
      "You can set `force_row_wise=true` to remove the overhead.\n",
      "And if memory is not enough, you can set `force_col_wise=true`.\n",
      "[LightGBM] [Info] Total Bins 2295\n",
      "[LightGBM] [Info] Number of data points in the train set: 335465, number of used features: 9\n",
      "[LightGBM] [Info] Start training from score 119.054608\n"
     ]
    },
    {
     "name": "stderr",
     "output_type": "stream",
     "text": [
      "c:\\Users\\nishi\\Downloads\\playground-series-s5e9\\playground-series-s5e9\\venv\\Lib\\site-packages\\sklearn\\utils\\validation.py:2749: UserWarning: X does not have valid feature names, but LGBMRegressor was fitted with feature names\n",
      "  warnings.warn(\n"
     ]
    },
    {
     "name": "stdout",
     "output_type": "stream",
     "text": [
      "[LightGBM] [Info] Auto-choosing row-wise multi-threading, the overhead of testing was 0.003904 seconds.\n",
      "You can set `force_row_wise=true` to remove the overhead.\n",
      "And if memory is not enough, you can set `force_col_wise=true`.\n",
      "[LightGBM] [Info] Total Bins 2295\n",
      "[LightGBM] [Info] Number of data points in the train set: 335465, number of used features: 9\n",
      "[LightGBM] [Info] Start training from score 119.039780\n"
     ]
    },
    {
     "name": "stderr",
     "output_type": "stream",
     "text": [
      "c:\\Users\\nishi\\Downloads\\playground-series-s5e9\\playground-series-s5e9\\venv\\Lib\\site-packages\\sklearn\\utils\\validation.py:2749: UserWarning: X does not have valid feature names, but LGBMRegressor was fitted with feature names\n",
      "  warnings.warn(\n"
     ]
    },
    {
     "name": "stdout",
     "output_type": "stream",
     "text": [
      "[LightGBM] [Info] Auto-choosing row-wise multi-threading, the overhead of testing was 0.003585 seconds.\n",
      "You can set `force_row_wise=true` to remove the overhead.\n",
      "And if memory is not enough, you can set `force_col_wise=true`.\n",
      "[LightGBM] [Info] Total Bins 2295\n",
      "[LightGBM] [Info] Number of data points in the train set: 335465, number of used features: 9\n",
      "[LightGBM] [Info] Start training from score 119.078083\n"
     ]
    },
    {
     "name": "stderr",
     "output_type": "stream",
     "text": [
      "c:\\Users\\nishi\\Downloads\\playground-series-s5e9\\playground-series-s5e9\\venv\\Lib\\site-packages\\sklearn\\utils\\validation.py:2749: UserWarning: X does not have valid feature names, but LGBMRegressor was fitted with feature names\n",
      "  warnings.warn(\n"
     ]
    },
    {
     "name": "stdout",
     "output_type": "stream",
     "text": [
      "[LightGBM] [Info] Auto-choosing row-wise multi-threading, the overhead of testing was 0.003574 seconds.\n",
      "You can set `force_row_wise=true` to remove the overhead.\n",
      "And if memory is not enough, you can set `force_col_wise=true`.\n",
      "[LightGBM] [Info] Total Bins 2295\n",
      "[LightGBM] [Info] Number of data points in the train set: 335465, number of used features: 9\n",
      "[LightGBM] [Info] Start training from score 119.047690\n"
     ]
    },
    {
     "name": "stderr",
     "output_type": "stream",
     "text": [
      "c:\\Users\\nishi\\Downloads\\playground-series-s5e9\\playground-series-s5e9\\venv\\Lib\\site-packages\\sklearn\\utils\\validation.py:2749: UserWarning: X does not have valid feature names, but LGBMRegressor was fitted with feature names\n",
      "  warnings.warn(\n",
      "c:\\Users\\nishi\\Downloads\\playground-series-s5e9\\playground-series-s5e9\\venv\\Lib\\site-packages\\sklearn\\utils\\validation.py:2749: UserWarning: X does not have valid feature names, but LGBMRegressor was fitted with feature names\n",
      "  warnings.warn(\n",
      "c:\\Users\\nishi\\Downloads\\playground-series-s5e9\\playground-series-s5e9\\venv\\Lib\\site-packages\\sklearn\\utils\\validation.py:2749: UserWarning: X does not have valid feature names, but LGBMRegressor was fitted with feature names\n",
      "  warnings.warn(\n"
     ]
    }
   ],
   "source": [
    "kf = KFold(n_splits=5, shuffle=True, random_state=42)\n",
    "meta_X_train = np.zeros((len(X_train_full_scaled), 4))\n",
    "meta_X_holdout = np.zeros((len(X_holdout_scaled), 4))\n",
    "meta_X_test = np.zeros((len(X_test_scaled), 4))\n",
    "\n",
    "for train_idx, val_idx in kf.split(X_train_full_scaled):\n",
    "    X_train_fold, X_val_fold = X_train_full_scaled[train_idx], X_train_full_scaled[val_idx]\n",
    "    y_train_fold = y_train_full.iloc[train_idx]\n",
    "    \n",
    "    lr.fit(X_train_fold, y_train_fold)\n",
    "    rf.fit(X_train_fold, y_train_fold)\n",
    "    xgb_model.fit(X_train_fold, y_train_fold)\n",
    "    lgb_model.fit(X_train_fold, y_train_fold)\n",
    "    \n",
    "    meta_X_train[val_idx] = np.column_stack((\n",
    "        lr.predict(X_val_fold),\n",
    "        rf.predict(X_val_fold),\n",
    "        xgb_model.predict(X_val_fold),\n",
    "        lgb_model.predict(X_val_fold)\n",
    "    ))\n",
    "meta_X_holdout = np.column_stack((\n",
    "    lr.predict(X_holdout_scaled),\n",
    "    rf.predict(X_holdout_scaled),\n",
    "    xgb_model.predict(X_holdout_scaled),\n",
    "    lgb_model.predict(X_holdout_scaled)\n",
    "))\n",
    "meta_X_test = np.column_stack((\n",
    "    lr.predict(X_test_scaled),\n",
    "    rf.predict(X_test_scaled),\n",
    "    xgb_model.predict(X_test_scaled),\n",
    "    lgb_model.predict(X_test_scaled)\n",
    "))\n"
   ]
  },
  {
   "cell_type": "markdown",
   "id": "d25ebd8c",
   "metadata": {},
   "source": [
    "# Train Meta-Model (Linear Regression)"
   ]
  },
  {
   "cell_type": "code",
   "execution_count": 12,
   "id": "93a2ff5a",
   "metadata": {},
   "outputs": [
    {
     "name": "stdout",
     "output_type": "stream",
     "text": [
      "Meta-Model Holdout RMSE: 26.4391\n"
     ]
    }
   ],
   "source": [
    "meta_model = LinearRegression()\n",
    "meta_model.fit(meta_X_train, y_train_full)\n",
    "meta_holdout_pred = meta_model.predict(meta_X_holdout)\n",
    "meta_rmse = np.sqrt(mean_squared_error(y_holdout, meta_holdout_pred))\n",
    "print(f\"Meta-Model Holdout RMSE: {meta_rmse:.4f}\")"
   ]
  },
  {
   "cell_type": "markdown",
   "id": "0fc47767",
   "metadata": {},
   "source": [
    "# Generate final test predictions"
   ]
  },
  {
   "cell_type": "code",
   "execution_count": 13,
   "id": "9f95cb10",
   "metadata": {},
   "outputs": [
    {
     "name": "stdout",
     "output_type": "stream",
     "text": [
      "Submission file created: submission_ensemble_stacking.csv\n"
     ]
    }
   ],
   "source": [
    "test_pred = meta_model.predict(meta_X_test)\n",
    "submission['BeatsPerMinute'] = test_pred\n",
    "submission.to_csv('submission_ensemble_stacking.csv', index=False)\n",
    "print(\"Submission file created: submission_ensemble_stacking.csv\")"
   ]
  }
 ],
 "metadata": {
  "kernelspec": {
   "display_name": "venv",
   "language": "python",
   "name": "python3"
  },
  "language_info": {
   "codemirror_mode": {
    "name": "ipython",
    "version": 3
   },
   "file_extension": ".py",
   "mimetype": "text/x-python",
   "name": "python",
   "nbconvert_exporter": "python",
   "pygments_lexer": "ipython3",
   "version": "3.11.9"
  }
 },
 "nbformat": 4,
 "nbformat_minor": 5
}
