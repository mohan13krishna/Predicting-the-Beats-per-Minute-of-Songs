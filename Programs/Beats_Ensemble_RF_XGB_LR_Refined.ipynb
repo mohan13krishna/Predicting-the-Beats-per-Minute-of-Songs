{
 "cells": [
  {
   "cell_type": "markdown",
   "id": "9d219123",
   "metadata": {},
   "source": [
    "# Import libraries"
   ]
  },
  {
   "cell_type": "code",
   "execution_count": 1,
   "id": "90d6c894",
   "metadata": {},
   "outputs": [],
   "source": [
    "import pandas as pd\n",
    "import numpy as np\n",
    "from sklearn.model_selection import train_test_split\n",
    "from sklearn.preprocessing import StandardScaler\n",
    "from sklearn.linear_model import LinearRegression\n",
    "from sklearn.ensemble import RandomForestRegressor\n",
    "import xgboost as xgb\n",
    "from sklearn.metrics import mean_squared_error"
   ]
  },
  {
   "cell_type": "markdown",
   "id": "60c5b0ad",
   "metadata": {},
   "source": [
    "# Load data"
   ]
  },
  {
   "cell_type": "code",
   "execution_count": 2,
   "id": "62324787",
   "metadata": {},
   "outputs": [],
   "source": [
    "train = pd.read_csv('train.csv')\n",
    "test = pd.read_csv('test.csv')\n",
    "submission = pd.read_csv('sample_submission.csv')"
   ]
  },
  {
   "cell_type": "markdown",
   "id": "966dcc51",
   "metadata": {},
   "source": [
    "# Define features"
   ]
  },
  {
   "cell_type": "code",
   "execution_count": 3,
   "id": "7f0663e5",
   "metadata": {},
   "outputs": [],
   "source": [
    "features = ['RhythmScore', 'AudioLoudness', 'VocalContent', 'AcousticQuality', \n",
    "            'InstrumentalScore', 'LivePerformanceLikelihood', 'MoodScore', \n",
    "            'TrackDurationMs', 'Energy']\n",
    "X = train[features]\n",
    "y = train['BeatsPerMinute']\n",
    "X_test = test[features]"
   ]
  },
  {
   "cell_type": "markdown",
   "id": "c6ff9208",
   "metadata": {},
   "source": [
    "# Feature engineering: Log-transform skewed features"
   ]
  },
  {
   "cell_type": "code",
   "execution_count": 4,
   "id": "24b5f2b0",
   "metadata": {},
   "outputs": [
    {
     "name": "stderr",
     "output_type": "stream",
     "text": [
      "C:\\Users\\nishi\\AppData\\Local\\Temp\\ipykernel_4048\\3028610528.py:1: SettingWithCopyWarning: \n",
      "A value is trying to be set on a copy of a slice from a DataFrame.\n",
      "Try using .loc[row_indexer,col_indexer] = value instead\n",
      "\n",
      "See the caveats in the documentation: https://pandas.pydata.org/pandas-docs/stable/user_guide/indexing.html#returning-a-view-versus-a-copy\n",
      "  X['AudioLoudness'] = np.log1p(-X['AudioLoudness'])\n",
      "C:\\Users\\nishi\\AppData\\Local\\Temp\\ipykernel_4048\\3028610528.py:2: SettingWithCopyWarning: \n",
      "A value is trying to be set on a copy of a slice from a DataFrame.\n",
      "Try using .loc[row_indexer,col_indexer] = value instead\n",
      "\n",
      "See the caveats in the documentation: https://pandas.pydata.org/pandas-docs/stable/user_guide/indexing.html#returning-a-view-versus-a-copy\n",
      "  X_test['AudioLoudness'] = np.log1p(-X_test['AudioLoudness'])\n",
      "C:\\Users\\nishi\\AppData\\Local\\Temp\\ipykernel_4048\\3028610528.py:3: SettingWithCopyWarning: \n",
      "A value is trying to be set on a copy of a slice from a DataFrame.\n",
      "Try using .loc[row_indexer,col_indexer] = value instead\n",
      "\n",
      "See the caveats in the documentation: https://pandas.pydata.org/pandas-docs/stable/user_guide/indexing.html#returning-a-view-versus-a-copy\n",
      "  X['TrackDurationMs'] = np.log1p(X['TrackDurationMs'])\n",
      "C:\\Users\\nishi\\AppData\\Local\\Temp\\ipykernel_4048\\3028610528.py:4: SettingWithCopyWarning: \n",
      "A value is trying to be set on a copy of a slice from a DataFrame.\n",
      "Try using .loc[row_indexer,col_indexer] = value instead\n",
      "\n",
      "See the caveats in the documentation: https://pandas.pydata.org/pandas-docs/stable/user_guide/indexing.html#returning-a-view-versus-a-copy\n",
      "  X_test['TrackDurationMs'] = np.log1p(X_test['TrackDurationMs'])\n"
     ]
    }
   ],
   "source": [
    "X['AudioLoudness'] = np.log1p(-X['AudioLoudness'])\n",
    "X_test['AudioLoudness'] = np.log1p(-X_test['AudioLoudness'])\n",
    "X['TrackDurationMs'] = np.log1p(X['TrackDurationMs'])\n",
    "X_test['TrackDurationMs'] = np.log1p(X_test['TrackDurationMs'])"
   ]
  },
  {
   "cell_type": "markdown",
   "id": "675b14e4",
   "metadata": {},
   "source": [
    "# Split data (80/20 for holdout validation)"
   ]
  },
  {
   "cell_type": "code",
   "execution_count": 5,
   "id": "5d10954f",
   "metadata": {},
   "outputs": [],
   "source": [
    "X_train, X_holdout, y_train, y_holdout = train_test_split(X, y, test_size=0.2, random_state=42)"
   ]
  },
  {
   "cell_type": "markdown",
   "id": "2a6e0452",
   "metadata": {},
   "source": [
    "# Standardize features"
   ]
  },
  {
   "cell_type": "code",
   "execution_count": 6,
   "id": "805db376",
   "metadata": {},
   "outputs": [],
   "source": [
    "scaler = StandardScaler()\n",
    "X_train_scaled = scaler.fit_transform(X_train)\n",
    "X_holdout_scaled = scaler.transform(X_holdout)\n",
    "X_test_scaled = scaler.transform(X_test)"
   ]
  },
  {
   "cell_type": "markdown",
   "id": "b5a8c3da",
   "metadata": {},
   "source": [
    "# Train Individual Models"
   ]
  },
  {
   "cell_type": "markdown",
   "id": "83e4df7b",
   "metadata": {},
   "source": [
    "\n",
    "# Linear Regression"
   ]
  },
  {
   "cell_type": "code",
   "execution_count": 7,
   "id": "0134e413",
   "metadata": {},
   "outputs": [
    {
     "name": "stdout",
     "output_type": "stream",
     "text": [
      "Linear RMSE: 26.4440\n"
     ]
    }
   ],
   "source": [
    "lr = LinearRegression()\n",
    "lr.fit(X_train_scaled, y_train)\n",
    "lr_holdout_pred = lr.predict(X_holdout_scaled)\n",
    "lr_rmse = np.sqrt(mean_squared_error(y_holdout, lr_holdout_pred))\n",
    "print(f\"Linear RMSE: {lr_rmse:.4f}\")"
   ]
  },
  {
   "cell_type": "markdown",
   "id": "dabfab98",
   "metadata": {},
   "source": [
    "# Random Forest (your best params)"
   ]
  },
  {
   "cell_type": "code",
   "execution_count": 8,
   "id": "ba6cce73",
   "metadata": {},
   "outputs": [
    {
     "name": "stdout",
     "output_type": "stream",
     "text": [
      "RF RMSE: 26.4398\n"
     ]
    }
   ],
   "source": [
    "rf = RandomForestRegressor(n_estimators=150, max_depth=10, min_samples_split=5, random_state=42, n_jobs=-1)\n",
    "rf.fit(X_train_scaled, y_train)\n",
    "rf_holdout_pred = rf.predict(X_holdout_scaled)\n",
    "rf_rmse = np.sqrt(mean_squared_error(y_holdout, rf_holdout_pred))\n",
    "print(f\"RF RMSE: {rf_rmse:.4f}\")"
   ]
  },
  {
   "cell_type": "markdown",
   "id": "33f73e82",
   "metadata": {},
   "source": [
    "# XGBoost with tuned params"
   ]
  },
  {
   "cell_type": "code",
   "execution_count": 9,
   "id": "c9bb10bb",
   "metadata": {},
   "outputs": [
    {
     "name": "stdout",
     "output_type": "stream",
     "text": [
      "XGBoost RMSE: 26.4439\n"
     ]
    }
   ],
   "source": [
    "xgb_model = xgb.XGBRegressor(n_estimators=120, learning_rate=0.05, max_depth=5, random_state=42)\n",
    "xgb_model.fit(X_train_scaled, y_train)\n",
    "xgb_holdout_pred = xgb_model.predict(X_holdout_scaled)\n",
    "xgb_rmse = np.sqrt(mean_squared_error(y_holdout, xgb_holdout_pred))\n",
    "print(f\"XGBoost RMSE: {xgb_rmse:.4f}\")"
   ]
  },
  {
   "cell_type": "markdown",
   "id": "309bf558",
   "metadata": {},
   "source": [
    "# Holdout-Guided Weight Optimization (finer grid)"
   ]
  },
  {
   "cell_type": "code",
   "execution_count": 10,
   "id": "24dcb5b8",
   "metadata": {},
   "outputs": [
    {
     "name": "stdout",
     "output_type": "stream",
     "text": [
      "Weights (LR: 0.05, RF: 0.65, XGB: 0.3) RMSE: 26.4392\n",
      "Weights (LR: 0.1, RF: 0.6, XGB: 0.3) RMSE: 26.4390\n",
      "Weights (LR: 0.15, RF: 0.55, XGB: 0.3) RMSE: 26.4388\n",
      "Weights (LR: 0.05, RF: 0.6, XGB: 0.35) RMSE: 26.4393\n",
      "Weights (LR: 0.1, RF: 0.55, XGB: 0.35) RMSE: 26.4391\n",
      "Weights (LR: 0.15, RF: 0.5, XGB: 0.35) RMSE: 26.4389\n",
      "Weights (LR: 0.05, RF: 0.55, XGB: 0.4) RMSE: 26.4394\n",
      "Weights (LR: 0.1, RF: 0.5, XGB: 0.4) RMSE: 26.4392\n",
      "Weights (LR: 0.15, RF: 0.45, XGB: 0.4) RMSE: 26.4391\n",
      "Best Weights: (0.15, 0.55, 0.3), Best Holdout RMSE: 26.4388\n"
     ]
    }
   ],
   "source": [
    "weight_combos = [\n",
    "    (0.05, 0.65, 0.30), (0.10, 0.60, 0.30), (0.15, 0.55, 0.30),\n",
    "    (0.05, 0.60, 0.35), (0.10, 0.55, 0.35), (0.15, 0.50, 0.35),\n",
    "    (0.05, 0.55, 0.40), (0.10, 0.50, 0.40), (0.15, 0.45, 0.40)\n",
    "]  # (LR, RF, XGB) summing to 1\n",
    "best_rmse = float('inf')\n",
    "best_weights = None\n",
    "for w_lr, w_rf, w_xgb in weight_combos:\n",
    "    ensemble_holdout_pred = w_lr * lr_holdout_pred + w_rf * rf_holdout_pred + w_xgb * xgb_holdout_pred\n",
    "    ensemble_rmse = np.sqrt(mean_squared_error(y_holdout, ensemble_holdout_pred))\n",
    "    print(f\"Weights (LR: {w_lr}, RF: {w_rf}, XGB: {w_xgb}) RMSE: {ensemble_rmse:.4f}\")\n",
    "    if ensemble_rmse < best_rmse:\n",
    "        best_rmse = ensemble_rmse\n",
    "        best_weights = (w_lr, w_rf, w_xgb)\n",
    "\n",
    "print(f\"Best Weights: {best_weights}, Best Holdout RMSE: {best_rmse:.4f}\")"
   ]
  },
  {
   "cell_type": "markdown",
   "id": "bb2509d6",
   "metadata": {},
   "source": [
    "\n",
    "# Generate test predictions with best weights"
   ]
  },
  {
   "cell_type": "code",
   "execution_count": 11,
   "id": "35cdbc33",
   "metadata": {},
   "outputs": [
    {
     "name": "stdout",
     "output_type": "stream",
     "text": [
      "Submission file created: submission_ensemble_refined.csv\n"
     ]
    }
   ],
   "source": [
    "lr_test_pred = lr.predict(X_test_scaled)\n",
    "rf_test_pred = rf.predict(X_test_scaled)\n",
    "xgb_test_pred = xgb_model.predict(X_test_scaled)\n",
    "test_pred = best_weights[0] * lr_test_pred + best_weights[1] * rf_test_pred + best_weights[2] * xgb_test_pred\n",
    "submission['BeatsPerMinute'] = test_pred\n",
    "submission.to_csv('submission_ensemble_refined.csv', index=False)\n",
    "print(\"Submission file created: submission_ensemble_refined.csv\")"
   ]
  }
 ],
 "metadata": {
  "kernelspec": {
   "display_name": "venv",
   "language": "python",
   "name": "python3"
  },
  "language_info": {
   "codemirror_mode": {
    "name": "ipython",
    "version": 3
   },
   "file_extension": ".py",
   "mimetype": "text/x-python",
   "name": "python",
   "nbconvert_exporter": "python",
   "pygments_lexer": "ipython3",
   "version": "3.11.9"
  }
 },
 "nbformat": 4,
 "nbformat_minor": 5
}
