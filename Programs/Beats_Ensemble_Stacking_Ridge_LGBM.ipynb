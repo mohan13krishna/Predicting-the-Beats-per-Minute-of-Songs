{
 "cells": [
  {
   "cell_type": "markdown",
   "id": "35f9c4e9",
   "metadata": {},
   "source": [
    "# Import Libraries"
   ]
  },
  {
   "cell_type": "code",
   "execution_count": 1,
   "id": "2552c270",
   "metadata": {},
   "outputs": [
    {
     "name": "stdout",
     "output_type": "stream",
     "text": [
      "Linear RMSE: 26.4441\n",
      "RF RMSE: 26.4408\n",
      "XGBoost RMSE: 26.4520\n",
      "[LightGBM] [Info] Auto-choosing row-wise multi-threading, the overhead of testing was 0.001890 seconds.\n",
      "You can set `force_row_wise=true` to remove the overhead.\n",
      "And if memory is not enough, you can set `force_col_wise=true`.\n",
      "[LightGBM] [Info] Total Bins 2550\n",
      "[LightGBM] [Info] Number of data points in the train set: 419331, number of used features: 10\n",
      "[LightGBM] [Info] Start training from score 119.056554\n"
     ]
    },
    {
     "name": "stderr",
     "output_type": "stream",
     "text": [
      "c:\\Users\\nishi\\Downloads\\playground-series-s5e9\\playground-series-s5e9\\venv\\Lib\\site-packages\\sklearn\\utils\\validation.py:2749: UserWarning: X does not have valid feature names, but LGBMRegressor was fitted with feature names\n",
      "  warnings.warn(\n"
     ]
    },
    {
     "name": "stdout",
     "output_type": "stream",
     "text": [
      "LightGBM RMSE: 26.4416\n",
      "[LightGBM] [Info] Auto-choosing row-wise multi-threading, the overhead of testing was 0.001744 seconds.\n",
      "You can set `force_row_wise=true` to remove the overhead.\n",
      "And if memory is not enough, you can set `force_col_wise=true`.\n",
      "[LightGBM] [Info] Total Bins 2550\n",
      "[LightGBM] [Info] Number of data points in the train set: 335464, number of used features: 10\n",
      "[LightGBM] [Info] Start training from score 119.062610\n"
     ]
    },
    {
     "name": "stderr",
     "output_type": "stream",
     "text": [
      "c:\\Users\\nishi\\Downloads\\playground-series-s5e9\\playground-series-s5e9\\venv\\Lib\\site-packages\\sklearn\\utils\\validation.py:2749: UserWarning: X does not have valid feature names, but LGBMRegressor was fitted with feature names\n",
      "  warnings.warn(\n"
     ]
    },
    {
     "name": "stdout",
     "output_type": "stream",
     "text": [
      "[LightGBM] [Info] Auto-choosing row-wise multi-threading, the overhead of testing was 0.001938 seconds.\n",
      "You can set `force_row_wise=true` to remove the overhead.\n",
      "And if memory is not enough, you can set `force_col_wise=true`.\n",
      "[LightGBM] [Info] Total Bins 2550\n",
      "[LightGBM] [Info] Number of data points in the train set: 335465, number of used features: 10\n",
      "[LightGBM] [Info] Start training from score 119.054608\n"
     ]
    },
    {
     "name": "stderr",
     "output_type": "stream",
     "text": [
      "c:\\Users\\nishi\\Downloads\\playground-series-s5e9\\playground-series-s5e9\\venv\\Lib\\site-packages\\sklearn\\utils\\validation.py:2749: UserWarning: X does not have valid feature names, but LGBMRegressor was fitted with feature names\n",
      "  warnings.warn(\n"
     ]
    },
    {
     "name": "stdout",
     "output_type": "stream",
     "text": [
      "[LightGBM] [Info] Auto-choosing row-wise multi-threading, the overhead of testing was 0.001615 seconds.\n",
      "You can set `force_row_wise=true` to remove the overhead.\n",
      "And if memory is not enough, you can set `force_col_wise=true`.\n",
      "[LightGBM] [Info] Total Bins 2550\n",
      "[LightGBM] [Info] Number of data points in the train set: 335465, number of used features: 10\n",
      "[LightGBM] [Info] Start training from score 119.039780\n"
     ]
    },
    {
     "name": "stderr",
     "output_type": "stream",
     "text": [
      "c:\\Users\\nishi\\Downloads\\playground-series-s5e9\\playground-series-s5e9\\venv\\Lib\\site-packages\\sklearn\\utils\\validation.py:2749: UserWarning: X does not have valid feature names, but LGBMRegressor was fitted with feature names\n",
      "  warnings.warn(\n"
     ]
    },
    {
     "name": "stdout",
     "output_type": "stream",
     "text": [
      "[LightGBM] [Info] Auto-choosing row-wise multi-threading, the overhead of testing was 0.001681 seconds.\n",
      "You can set `force_row_wise=true` to remove the overhead.\n",
      "And if memory is not enough, you can set `force_col_wise=true`.\n",
      "[LightGBM] [Info] Total Bins 2550\n",
      "[LightGBM] [Info] Number of data points in the train set: 335465, number of used features: 10\n",
      "[LightGBM] [Info] Start training from score 119.078083\n"
     ]
    },
    {
     "name": "stderr",
     "output_type": "stream",
     "text": [
      "c:\\Users\\nishi\\Downloads\\playground-series-s5e9\\playground-series-s5e9\\venv\\Lib\\site-packages\\sklearn\\utils\\validation.py:2749: UserWarning: X does not have valid feature names, but LGBMRegressor was fitted with feature names\n",
      "  warnings.warn(\n"
     ]
    },
    {
     "name": "stdout",
     "output_type": "stream",
     "text": [
      "[LightGBM] [Info] Auto-choosing row-wise multi-threading, the overhead of testing was 0.001254 seconds.\n",
      "You can set `force_row_wise=true` to remove the overhead.\n",
      "And if memory is not enough, you can set `force_col_wise=true`.\n",
      "[LightGBM] [Info] Total Bins 2550\n",
      "[LightGBM] [Info] Number of data points in the train set: 335465, number of used features: 10\n",
      "[LightGBM] [Info] Start training from score 119.047690\n"
     ]
    },
    {
     "name": "stderr",
     "output_type": "stream",
     "text": [
      "c:\\Users\\nishi\\Downloads\\playground-series-s5e9\\playground-series-s5e9\\venv\\Lib\\site-packages\\sklearn\\utils\\validation.py:2749: UserWarning: X does not have valid feature names, but LGBMRegressor was fitted with feature names\n",
      "  warnings.warn(\n",
      "c:\\Users\\nishi\\Downloads\\playground-series-s5e9\\playground-series-s5e9\\venv\\Lib\\site-packages\\sklearn\\utils\\validation.py:2749: UserWarning: X does not have valid feature names, but LGBMRegressor was fitted with feature names\n",
      "  warnings.warn(\n",
      "c:\\Users\\nishi\\Downloads\\playground-series-s5e9\\playground-series-s5e9\\venv\\Lib\\site-packages\\sklearn\\utils\\validation.py:2749: UserWarning: X does not have valid feature names, but LGBMRegressor was fitted with feature names\n",
      "  warnings.warn(\n"
     ]
    },
    {
     "name": "stdout",
     "output_type": "stream",
     "text": [
      "Meta-Model Holdout RMSE: 26.4390\n",
      "Submission file created: submission_ensemble_stacking_ridge.csv\n"
     ]
    }
   ],
   "source": [
    "import pandas as pd\n",
    "import numpy as np\n",
    "from sklearn.model_selection import train_test_split, KFold\n",
    "from sklearn.preprocessing import StandardScaler\n",
    "from sklearn.linear_model import LinearRegression, Ridge\n",
    "from sklearn.ensemble import RandomForestRegressor\n",
    "import xgboost as xgb\n",
    "import lightgbm as lgb\n",
    "from sklearn.metrics import mean_squared_error\n",
    "\n",
    "# Load data\n",
    "train = pd.read_csv('train.csv')\n",
    "test = pd.read_csv('test.csv')\n",
    "submission = pd.read_csv('sample_submission.csv')\n",
    "\n",
    "# Define features\n",
    "features = ['RhythmScore', 'AudioLoudness', 'VocalContent', 'AcousticQuality', \n",
    "            'InstrumentalScore', 'LivePerformanceLikelihood', 'MoodScore', \n",
    "            'TrackDurationMs', 'Energy']\n",
    "X = train[features].copy()\n",
    "y = train['BeatsPerMinute']\n",
    "X_test = test[features].copy()\n",
    "\n",
    "# Feature engineering: Log-transform and add Energy_Rhythm\n",
    "X['AudioLoudness'] = np.log1p(-X['AudioLoudness'])\n",
    "X_test['AudioLoudness'] = np.log1p(-X_test['AudioLoudness'])\n",
    "X['TrackDurationMs'] = np.log1p(X['TrackDurationMs'])\n",
    "X_test['TrackDurationMs'] = np.log1p(X_test['TrackDurationMs'])\n",
    "X['Energy_Rhythm'] = X['Energy'] * X['RhythmScore']\n",
    "X_test['Energy_Rhythm'] = X_test['Energy'] * X_test['RhythmScore']\n",
    "\n",
    "# Split data (80/20 for holdout and meta-training)\n",
    "X_train_full, X_holdout, y_train_full, y_holdout = train_test_split(X, y, test_size=0.2, random_state=42)\n",
    "\n",
    "# Standardize features\n",
    "scaler = StandardScaler()\n",
    "X_train_full_scaled = scaler.fit_transform(X_train_full)\n",
    "X_holdout_scaled = scaler.transform(X_holdout)\n",
    "X_test_scaled = scaler.transform(X_test)\n",
    "\n",
    "# Train Base Models\n",
    "# Linear Regression\n",
    "lr = LinearRegression()\n",
    "lr.fit(X_train_full_scaled, y_train_full)\n",
    "lr_holdout_pred = lr.predict(X_holdout_scaled)\n",
    "lr_rmse = np.sqrt(mean_squared_error(y_holdout, lr_holdout_pred))\n",
    "print(f\"Linear RMSE: {lr_rmse:.4f}\")\n",
    "\n",
    "# Random Forest (your best params)\n",
    "rf = RandomForestRegressor(n_estimators=150, max_depth=10, min_samples_split=5, random_state=42, n_jobs=-1)\n",
    "rf.fit(X_train_full_scaled, y_train_full)\n",
    "rf_holdout_pred = rf.predict(X_holdout_scaled)\n",
    "rf_rmse = np.sqrt(mean_squared_error(y_holdout, rf_holdout_pred))\n",
    "print(f\"RF RMSE: {rf_rmse:.4f}\")\n",
    "\n",
    "# XGBoost with proven params\n",
    "xgb_model = xgb.XGBRegressor(n_estimators=130, learning_rate=0.06, max_depth=6, random_state=42)\n",
    "xgb_model.fit(X_train_full_scaled, y_train_full)\n",
    "xgb_holdout_pred = xgb_model.predict(X_holdout_scaled)\n",
    "xgb_rmse = np.sqrt(mean_squared_error(y_holdout, xgb_holdout_pred))\n",
    "print(f\"XGBoost RMSE: {xgb_rmse:.4f}\")\n",
    "\n",
    "# LightGBM with enhanced role\n",
    "lgb_model = lgb.LGBMRegressor(n_estimators=200, learning_rate=0.03, max_depth=6, random_state=42, n_jobs=-1)\n",
    "lgb_model.fit(X_train_full_scaled, y_train_full)\n",
    "lgb_holdout_pred = lgb_model.predict(X_holdout_scaled)\n",
    "lgb_rmse = np.sqrt(mean_squared_error(y_holdout, lgb_holdout_pred))\n",
    "print(f\"LightGBM RMSE: {lgb_rmse:.4f}\")\n",
    "\n",
    "# Generate meta-features (predictions) for stacking\n",
    "kf = KFold(n_splits=5, shuffle=True, random_state=42)\n",
    "meta_X_train = np.zeros((len(X_train_full_scaled), 4))\n",
    "meta_X_holdout = np.zeros((len(X_holdout_scaled), 4))\n",
    "meta_X_test = np.zeros((len(X_test_scaled), 4))\n",
    "\n",
    "for train_idx, val_idx in kf.split(X_train_full_scaled):\n",
    "    X_train_fold, X_val_fold = X_train_full_scaled[train_idx], X_train_full_scaled[val_idx]\n",
    "    y_train_fold = y_train_full.iloc[train_idx]\n",
    "    \n",
    "    lr.fit(X_train_fold, y_train_fold)\n",
    "    rf.fit(X_train_fold, y_train_fold)\n",
    "    xgb_model.fit(X_train_fold, y_train_fold)\n",
    "    lgb_model.fit(X_train_fold, y_train_fold)\n",
    "    \n",
    "    meta_X_train[val_idx] = np.column_stack((\n",
    "        lr.predict(X_val_fold),\n",
    "        rf.predict(X_val_fold),\n",
    "        xgb_model.predict(X_val_fold),\n",
    "        lgb_model.predict(X_val_fold)\n",
    "    ))\n",
    "meta_X_holdout = np.column_stack((\n",
    "    lr.predict(X_holdout_scaled),\n",
    "    rf.predict(X_holdout_scaled),\n",
    "    xgb_model.predict(X_holdout_scaled),\n",
    "    lgb_model.predict(X_holdout_scaled)\n",
    "))\n",
    "meta_X_test = np.column_stack((\n",
    "    lr.predict(X_test_scaled),\n",
    "    rf.predict(X_test_scaled),\n",
    "    xgb_model.predict(X_test_scaled),\n",
    "    lgb_model.predict(X_test_scaled)\n",
    "))\n",
    "\n",
    "# Train Meta-Model (Ridge Regression)\n",
    "meta_model = Ridge(alpha=1.0, random_state=42)\n",
    "meta_model.fit(meta_X_train, y_train_full)\n",
    "meta_holdout_pred = meta_model.predict(meta_X_holdout)\n",
    "meta_rmse = np.sqrt(mean_squared_error(y_holdout, meta_holdout_pred))\n",
    "print(f\"Meta-Model Holdout RMSE: {meta_rmse:.4f}\")\n",
    "\n",
    "# Generate final test predictions\n",
    "test_pred = meta_model.predict(meta_X_test)\n",
    "submission['BeatsPerMinute'] = test_pred\n",
    "submission.to_csv('submission_ensemble_stacking_ridge.csv', index=False)\n",
    "print(\"Submission file created: submission_ensemble_stacking_ridge.csv\")"
   ]
  }
 ],
 "metadata": {
  "kernelspec": {
   "display_name": "venv",
   "language": "python",
   "name": "python3"
  },
  "language_info": {
   "codemirror_mode": {
    "name": "ipython",
    "version": 3
   },
   "file_extension": ".py",
   "mimetype": "text/x-python",
   "name": "python",
   "nbconvert_exporter": "python",
   "pygments_lexer": "ipython3",
   "version": "3.11.9"
  }
 },
 "nbformat": 4,
 "nbformat_minor": 5
}
