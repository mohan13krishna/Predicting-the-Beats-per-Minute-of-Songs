{
 "cells": [
  {
   "cell_type": "markdown",
   "id": "ad1b33e4",
   "metadata": {},
   "source": [
    "# Import libraries"
   ]
  },
  {
   "cell_type": "code",
   "execution_count": 2,
   "id": "7de14b02",
   "metadata": {},
   "outputs": [],
   "source": [
    "import pandas as pd\n",
    "import numpy as np\n",
    "from sklearn.model_selection import train_test_split\n",
    "from sklearn.preprocessing import StandardScaler\n",
    "from sklearn.ensemble import RandomForestRegressor\n",
    "import xgboost as xgb\n",
    "from sklearn.metrics import mean_squared_error"
   ]
  },
  {
   "cell_type": "markdown",
   "id": "3b5f9296",
   "metadata": {},
   "source": [
    "# Load data"
   ]
  },
  {
   "cell_type": "code",
   "execution_count": 3,
   "id": "894b1863",
   "metadata": {},
   "outputs": [],
   "source": [
    "train = pd.read_csv('train.csv')\n",
    "test = pd.read_csv('test.csv')\n",
    "submission = pd.read_csv('sample_submission.csv')"
   ]
  },
  {
   "cell_type": "markdown",
   "id": "b8f0035d",
   "metadata": {},
   "source": [
    "# Define features"
   ]
  },
  {
   "cell_type": "code",
   "execution_count": 4,
   "id": "1d4d5168",
   "metadata": {},
   "outputs": [],
   "source": [
    "features = ['RhythmScore', 'AudioLoudness', 'VocalContent', 'AcousticQuality', \n",
    "            'InstrumentalScore', 'LivePerformanceLikelihood', 'MoodScore', \n",
    "            'TrackDurationMs', 'Energy']\n",
    "X = train[features]\n",
    "y = train['BeatsPerMinute']\n",
    "X_test = test[features]"
   ]
  },
  {
   "cell_type": "markdown",
   "id": "c49145fc",
   "metadata": {},
   "source": [
    "# Feature engineering: Log-transform skewed features"
   ]
  },
  {
   "cell_type": "code",
   "execution_count": 5,
   "id": "e003a092",
   "metadata": {},
   "outputs": [
    {
     "name": "stderr",
     "output_type": "stream",
     "text": [
      "C:\\Users\\nishi\\AppData\\Local\\Temp\\ipykernel_3772\\3028610528.py:1: SettingWithCopyWarning: \n",
      "A value is trying to be set on a copy of a slice from a DataFrame.\n",
      "Try using .loc[row_indexer,col_indexer] = value instead\n",
      "\n",
      "See the caveats in the documentation: https://pandas.pydata.org/pandas-docs/stable/user_guide/indexing.html#returning-a-view-versus-a-copy\n",
      "  X['AudioLoudness'] = np.log1p(-X['AudioLoudness'])\n",
      "C:\\Users\\nishi\\AppData\\Local\\Temp\\ipykernel_3772\\3028610528.py:2: SettingWithCopyWarning: \n",
      "A value is trying to be set on a copy of a slice from a DataFrame.\n",
      "Try using .loc[row_indexer,col_indexer] = value instead\n",
      "\n",
      "See the caveats in the documentation: https://pandas.pydata.org/pandas-docs/stable/user_guide/indexing.html#returning-a-view-versus-a-copy\n",
      "  X_test['AudioLoudness'] = np.log1p(-X_test['AudioLoudness'])\n",
      "C:\\Users\\nishi\\AppData\\Local\\Temp\\ipykernel_3772\\3028610528.py:3: SettingWithCopyWarning: \n",
      "A value is trying to be set on a copy of a slice from a DataFrame.\n",
      "Try using .loc[row_indexer,col_indexer] = value instead\n",
      "\n",
      "See the caveats in the documentation: https://pandas.pydata.org/pandas-docs/stable/user_guide/indexing.html#returning-a-view-versus-a-copy\n",
      "  X['TrackDurationMs'] = np.log1p(X['TrackDurationMs'])\n",
      "C:\\Users\\nishi\\AppData\\Local\\Temp\\ipykernel_3772\\3028610528.py:4: SettingWithCopyWarning: \n",
      "A value is trying to be set on a copy of a slice from a DataFrame.\n",
      "Try using .loc[row_indexer,col_indexer] = value instead\n",
      "\n",
      "See the caveats in the documentation: https://pandas.pydata.org/pandas-docs/stable/user_guide/indexing.html#returning-a-view-versus-a-copy\n",
      "  X_test['TrackDurationMs'] = np.log1p(X_test['TrackDurationMs'])\n"
     ]
    }
   ],
   "source": [
    "X['AudioLoudness'] = np.log1p(-X['AudioLoudness'])\n",
    "X_test['AudioLoudness'] = np.log1p(-X_test['AudioLoudness'])\n",
    "X['TrackDurationMs'] = np.log1p(X['TrackDurationMs'])\n",
    "X_test['TrackDurationMs'] = np.log1p(X_test['TrackDurationMs'])"
   ]
  },
  {
   "cell_type": "markdown",
   "id": "26eecb7a",
   "metadata": {},
   "source": [
    "# Split data (80/20 for holdout validation)"
   ]
  },
  {
   "cell_type": "code",
   "execution_count": 6,
   "id": "9d9f11f5",
   "metadata": {},
   "outputs": [],
   "source": [
    "X_train, X_holdout, y_train, y_holdout = train_test_split(X, y, test_size=0.2, random_state=42)"
   ]
  },
  {
   "cell_type": "markdown",
   "id": "94b96a81",
   "metadata": {},
   "source": [
    "# Standardize features"
   ]
  },
  {
   "cell_type": "code",
   "execution_count": 7,
   "id": "84a48ec7",
   "metadata": {},
   "outputs": [],
   "source": [
    "scaler = StandardScaler()\n",
    "X_train_scaled = scaler.fit_transform(X_train)\n",
    "X_holdout_scaled = scaler.transform(X_holdout)\n",
    "X_test_scaled = scaler.transform(X_test)"
   ]
  },
  {
   "cell_type": "markdown",
   "id": "56fe49e4",
   "metadata": {},
   "source": [
    "# Train Random Forest (your best params)"
   ]
  },
  {
   "cell_type": "code",
   "execution_count": 8,
   "id": "c3144ce9",
   "metadata": {},
   "outputs": [
    {
     "name": "stdout",
     "output_type": "stream",
     "text": [
      "RF Holdout RMSE: 26.4398\n"
     ]
    }
   ],
   "source": [
    "rf = RandomForestRegressor(n_estimators=150, max_depth=10, min_samples_split=5, random_state=42, n_jobs=-1)\n",
    "rf.fit(X_train_scaled, y_train)\n",
    "rf_holdout_pred = rf.predict(X_holdout_scaled)\n",
    "rf_rmse = np.sqrt(mean_squared_error(y_holdout, rf_holdout_pred))\n",
    "print(f\"RF Holdout RMSE: {rf_rmse:.4f}\")"
   ]
  },
  {
   "cell_type": "markdown",
   "id": "c5e13d76",
   "metadata": {},
   "source": [
    "# Train XGBoost with tuned params"
   ]
  },
  {
   "cell_type": "code",
   "execution_count": 9,
   "id": "9d69df2f",
   "metadata": {},
   "outputs": [
    {
     "name": "stdout",
     "output_type": "stream",
     "text": [
      "XGBoost Holdout RMSE: 26.4439\n"
     ]
    }
   ],
   "source": [
    "xgb_model = xgb.XGBRegressor(n_estimators=120, learning_rate=0.05, max_depth=5, random_state=42)\n",
    "xgb_model.fit(X_train_scaled, y_train)\n",
    "xgb_holdout_pred = xgb_model.predict(X_holdout_scaled)\n",
    "xgb_rmse = np.sqrt(mean_squared_error(y_holdout, xgb_holdout_pred))\n",
    "print(f\"XGBoost Holdout RMSE: {xgb_rmse:.4f}\")"
   ]
  },
  {
   "cell_type": "markdown",
   "id": "530caa9f",
   "metadata": {},
   "source": [
    "# Holdout-Guided Weight Optimization (simple grid search)"
   ]
  },
  {
   "cell_type": "code",
   "execution_count": 10,
   "id": "8afa98b6",
   "metadata": {},
   "outputs": [
    {
     "name": "stdout",
     "output_type": "stream",
     "text": [
      "Weights (RF: 0.7, XGB: 0.3) RMSE: 26.4394\n",
      "Weights (RF: 0.6, XGB: 0.4) RMSE: 26.4396\n",
      "Weights (RF: 0.5, XGB: 0.5) RMSE: 26.4400\n",
      "Weights (RF: 0.4, XGB: 0.6) RMSE: 26.4405\n",
      "Weights (RF: 0.3, XGB: 0.7) RMSE: 26.4411\n",
      "Best Weights: (0.7, 0.3), Best Holdout RMSE: 26.4394\n"
     ]
    }
   ],
   "source": [
    "weight_combos = [\n",
    "    (0.7, 0.3),  # Heavy RF\n",
    "    (0.6, 0.4),  # Balanced\n",
    "    (0.5, 0.5),  # Equal\n",
    "    (0.4, 0.6),  # Heavy XGB\n",
    "    (0.3, 0.7)   # More XGB\n",
    "]\n",
    "best_rmse = float('inf')\n",
    "best_weights = None\n",
    "for w_rf, w_xgb in weight_combos:\n",
    "    ensemble_holdout_pred = w_rf * rf_holdout_pred + w_xgb * xgb_holdout_pred\n",
    "    ensemble_rmse = np.sqrt(mean_squared_error(y_holdout, ensemble_holdout_pred))\n",
    "    print(f\"Weights (RF: {w_rf}, XGB: {w_xgb}) RMSE: {ensemble_rmse:.4f}\")\n",
    "    if ensemble_rmse < best_rmse:\n",
    "        best_rmse = ensemble_rmse\n",
    "        best_weights = (w_rf, w_xgb)\n",
    "\n",
    "print(f\"Best Weights: {best_weights}, Best Holdout RMSE: {best_rmse:.4f}\")"
   ]
  },
  {
   "cell_type": "markdown",
   "id": "135510ef",
   "metadata": {},
   "source": [
    "# Generate test predictions with best weights"
   ]
  },
  {
   "cell_type": "code",
   "execution_count": 11,
   "id": "f24e0909",
   "metadata": {},
   "outputs": [
    {
     "name": "stdout",
     "output_type": "stream",
     "text": [
      "Submission file created: submission_ensemble_rf_xgb.csv\n"
     ]
    }
   ],
   "source": [
    "rf_test_pred = rf.predict(X_test_scaled)\n",
    "xgb_test_pred = xgb_model.predict(X_test_scaled)\n",
    "test_pred = best_weights[0] * rf_test_pred + best_weights[1] * xgb_test_pred\n",
    "submission['BeatsPerMinute'] = test_pred\n",
    "submission.to_csv('submission_ensemble_rf_xgb.csv', index=False)\n",
    "print(\"Submission file created: submission_ensemble_rf_xgb.csv\")"
   ]
  }
 ],
 "metadata": {
  "kernelspec": {
   "display_name": "venv",
   "language": "python",
   "name": "python3"
  },
  "language_info": {
   "codemirror_mode": {
    "name": "ipython",
    "version": 3
   },
   "file_extension": ".py",
   "mimetype": "text/x-python",
   "name": "python",
   "nbconvert_exporter": "python",
   "pygments_lexer": "ipython3",
   "version": "3.11.9"
  }
 },
 "nbformat": 4,
 "nbformat_minor": 5
}
