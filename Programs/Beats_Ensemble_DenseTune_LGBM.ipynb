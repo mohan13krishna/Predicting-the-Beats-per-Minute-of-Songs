{
 "cells": [
  {
   "cell_type": "markdown",
   "id": "cc5d02ef",
   "metadata": {},
   "source": [
    "# Import libraries"
   ]
  },
  {
   "cell_type": "code",
   "execution_count": 1,
   "id": "153cbf61",
   "metadata": {},
   "outputs": [],
   "source": [
    "import pandas as pd\n",
    "import numpy as np\n",
    "from sklearn.model_selection import train_test_split, KFold\n",
    "from sklearn.preprocessing import StandardScaler\n",
    "from sklearn.linear_model import LinearRegression\n",
    "from sklearn.ensemble import RandomForestRegressor\n",
    "import xgboost as xgb\n",
    "import lightgbm as lgb\n",
    "from sklearn.metrics import mean_squared_error"
   ]
  },
  {
   "cell_type": "markdown",
   "id": "d50c9c9b",
   "metadata": {},
   "source": [
    "# Load data"
   ]
  },
  {
   "cell_type": "code",
   "execution_count": 2,
   "id": "119d7fbe",
   "metadata": {},
   "outputs": [],
   "source": [
    "train = pd.read_csv('train.csv')\n",
    "test = pd.read_csv('test.csv')\n",
    "submission = pd.read_csv('sample_submission.csv')"
   ]
  },
  {
   "cell_type": "markdown",
   "id": "20c3bf41",
   "metadata": {},
   "source": [
    "# Define features"
   ]
  },
  {
   "cell_type": "code",
   "execution_count": 3,
   "id": "736287fa",
   "metadata": {},
   "outputs": [],
   "source": [
    "features = ['RhythmScore', 'AudioLoudness', 'VocalContent', 'AcousticQuality', \n",
    "            'InstrumentalScore', 'LivePerformanceLikelihood', 'MoodScore', \n",
    "            'TrackDurationMs', 'Energy']\n",
    "X = train[features]\n",
    "y = train['BeatsPerMinute']\n",
    "X_test = test[features]"
   ]
  },
  {
   "cell_type": "markdown",
   "id": "a3925f79",
   "metadata": {},
   "source": [
    "# Feature engineering: Log-transform skewed features"
   ]
  },
  {
   "cell_type": "code",
   "execution_count": 4,
   "id": "6eecc8d7",
   "metadata": {},
   "outputs": [
    {
     "name": "stderr",
     "output_type": "stream",
     "text": [
      "C:\\Users\\nishi\\AppData\\Local\\Temp\\ipykernel_2996\\3028610528.py:1: SettingWithCopyWarning: \n",
      "A value is trying to be set on a copy of a slice from a DataFrame.\n",
      "Try using .loc[row_indexer,col_indexer] = value instead\n",
      "\n",
      "See the caveats in the documentation: https://pandas.pydata.org/pandas-docs/stable/user_guide/indexing.html#returning-a-view-versus-a-copy\n",
      "  X['AudioLoudness'] = np.log1p(-X['AudioLoudness'])\n",
      "C:\\Users\\nishi\\AppData\\Local\\Temp\\ipykernel_2996\\3028610528.py:2: SettingWithCopyWarning: \n",
      "A value is trying to be set on a copy of a slice from a DataFrame.\n",
      "Try using .loc[row_indexer,col_indexer] = value instead\n",
      "\n",
      "See the caveats in the documentation: https://pandas.pydata.org/pandas-docs/stable/user_guide/indexing.html#returning-a-view-versus-a-copy\n",
      "  X_test['AudioLoudness'] = np.log1p(-X_test['AudioLoudness'])\n",
      "C:\\Users\\nishi\\AppData\\Local\\Temp\\ipykernel_2996\\3028610528.py:3: SettingWithCopyWarning: \n",
      "A value is trying to be set on a copy of a slice from a DataFrame.\n",
      "Try using .loc[row_indexer,col_indexer] = value instead\n",
      "\n",
      "See the caveats in the documentation: https://pandas.pydata.org/pandas-docs/stable/user_guide/indexing.html#returning-a-view-versus-a-copy\n",
      "  X['TrackDurationMs'] = np.log1p(X['TrackDurationMs'])\n",
      "C:\\Users\\nishi\\AppData\\Local\\Temp\\ipykernel_2996\\3028610528.py:4: SettingWithCopyWarning: \n",
      "A value is trying to be set on a copy of a slice from a DataFrame.\n",
      "Try using .loc[row_indexer,col_indexer] = value instead\n",
      "\n",
      "See the caveats in the documentation: https://pandas.pydata.org/pandas-docs/stable/user_guide/indexing.html#returning-a-view-versus-a-copy\n",
      "  X_test['TrackDurationMs'] = np.log1p(X_test['TrackDurationMs'])\n"
     ]
    }
   ],
   "source": [
    "X['AudioLoudness'] = np.log1p(-X['AudioLoudness'])\n",
    "X_test['AudioLoudness'] = np.log1p(-X_test['AudioLoudness'])\n",
    "X['TrackDurationMs'] = np.log1p(X['TrackDurationMs'])\n",
    "X_test['TrackDurationMs'] = np.log1p(X_test['TrackDurationMs'])"
   ]
  },
  {
   "cell_type": "markdown",
   "id": "672abe83",
   "metadata": {},
   "source": [
    "# Split data (80/20 for holdout validation)"
   ]
  },
  {
   "cell_type": "code",
   "execution_count": 5,
   "id": "e48473c0",
   "metadata": {},
   "outputs": [],
   "source": [
    "X_train, X_holdout, y_train, y_holdout = train_test_split(X, y, test_size=0.2, random_state=42)"
   ]
  },
  {
   "cell_type": "markdown",
   "id": "dbd6d83f",
   "metadata": {},
   "source": [
    "# Standardize features"
   ]
  },
  {
   "cell_type": "code",
   "execution_count": 6,
   "id": "602f789a",
   "metadata": {},
   "outputs": [],
   "source": [
    "scaler = StandardScaler()\n",
    "X_train_scaled = scaler.fit_transform(X_train)\n",
    "X_holdout_scaled = scaler.transform(X_holdout)\n",
    "X_test_scaled = scaler.transform(X_test)"
   ]
  },
  {
   "cell_type": "markdown",
   "id": "61c2648c",
   "metadata": {},
   "source": [
    "# Train Individual Models"
   ]
  },
  {
   "cell_type": "markdown",
   "id": "aa7d92c5",
   "metadata": {},
   "source": [
    "# Linear Regression"
   ]
  },
  {
   "cell_type": "code",
   "execution_count": 7,
   "id": "3f5fd903",
   "metadata": {},
   "outputs": [
    {
     "name": "stdout",
     "output_type": "stream",
     "text": [
      "Linear RMSE: 26.4440\n"
     ]
    }
   ],
   "source": [
    "lr = LinearRegression()\n",
    "lr.fit(X_train_scaled, y_train)\n",
    "lr_holdout_pred = lr.predict(X_holdout_scaled)\n",
    "lr_rmse = np.sqrt(mean_squared_error(y_holdout, lr_holdout_pred))\n",
    "print(f\"Linear RMSE: {lr_rmse:.4f}\")"
   ]
  },
  {
   "cell_type": "markdown",
   "id": "c532ed3c",
   "metadata": {},
   "source": [
    "# Random Forest (your best params)"
   ]
  },
  {
   "cell_type": "code",
   "execution_count": 8,
   "id": "4673a761",
   "metadata": {},
   "outputs": [
    {
     "name": "stdout",
     "output_type": "stream",
     "text": [
      "RF RMSE: 26.4398\n"
     ]
    }
   ],
   "source": [
    "rf = RandomForestRegressor(n_estimators=150, max_depth=10, min_samples_split=5, random_state=42, n_jobs=-1)\n",
    "rf.fit(X_train_scaled, y_train)\n",
    "rf_holdout_pred = rf.predict(X_holdout_scaled)\n",
    "rf_rmse = np.sqrt(mean_squared_error(y_holdout, rf_holdout_pred))\n",
    "print(f\"RF RMSE: {rf_rmse:.4f}\")"
   ]
  },
  {
   "cell_type": "markdown",
   "id": "a25b387b",
   "metadata": {},
   "source": [
    "# XGBoost with adjusted params"
   ]
  },
  {
   "cell_type": "code",
   "execution_count": 9,
   "id": "51277c49",
   "metadata": {},
   "outputs": [
    {
     "name": "stdout",
     "output_type": "stream",
     "text": [
      "XGBoost RMSE: 26.4514\n"
     ]
    }
   ],
   "source": [
    "xgb_model = xgb.XGBRegressor(n_estimators=130, learning_rate=0.06, max_depth=6, random_state=42)\n",
    "xgb_model.fit(X_train_scaled, y_train)\n",
    "xgb_holdout_pred = xgb_model.predict(X_holdout_scaled)\n",
    "xgb_rmse = np.sqrt(mean_squared_error(y_holdout, xgb_holdout_pred))\n",
    "print(f\"XGBoost RMSE: {xgb_rmse:.4f}\")"
   ]
  },
  {
   "cell_type": "markdown",
   "id": "44559453",
   "metadata": {},
   "source": [
    "# LightGBM with tuned params"
   ]
  },
  {
   "cell_type": "code",
   "execution_count": 10,
   "id": "78cc3659",
   "metadata": {},
   "outputs": [
    {
     "name": "stdout",
     "output_type": "stream",
     "text": [
      "[LightGBM] [Info] Auto-choosing row-wise multi-threading, the overhead of testing was 0.002888 seconds.\n",
      "You can set `force_row_wise=true` to remove the overhead.\n",
      "And if memory is not enough, you can set `force_col_wise=true`.\n",
      "[LightGBM] [Info] Total Bins 2295\n",
      "[LightGBM] [Info] Number of data points in the train set: 419331, number of used features: 9\n",
      "[LightGBM] [Info] Start training from score 119.056554\n",
      "LightGBM RMSE: 26.4408\n"
     ]
    },
    {
     "name": "stderr",
     "output_type": "stream",
     "text": [
      "c:\\Users\\nishi\\Downloads\\playground-series-s5e9\\playground-series-s5e9\\venv\\Lib\\site-packages\\sklearn\\utils\\validation.py:2749: UserWarning: X does not have valid feature names, but LGBMRegressor was fitted with feature names\n",
      "  warnings.warn(\n"
     ]
    }
   ],
   "source": [
    "lgb_model = lgb.LGBMRegressor(n_estimators=200, learning_rate=0.03, max_depth=6, random_state=42, n_jobs=-1)\n",
    "lgb_model.fit(X_train_scaled, y_train)\n",
    "lgb_holdout_pred = lgb_model.predict(X_holdout_scaled)\n",
    "lgb_rmse = np.sqrt(mean_squared_error(y_holdout, lgb_holdout_pred))\n",
    "print(f\"LightGBM RMSE: {lgb_rmse:.4f}\")"
   ]
  },
  {
   "cell_type": "markdown",
   "id": "c64db5e3",
   "metadata": {},
   "source": [
    "# Cross-Validation for Weight Optimization (5-fold)"
   ]
  },
  {
   "cell_type": "code",
   "execution_count": 11,
   "id": "095d510b",
   "metadata": {},
   "outputs": [
    {
     "name": "stderr",
     "output_type": "stream",
     "text": [
      "c:\\Users\\nishi\\Downloads\\playground-series-s5e9\\playground-series-s5e9\\venv\\Lib\\site-packages\\sklearn\\utils\\validation.py:2749: UserWarning: X does not have valid feature names, but LGBMRegressor was fitted with feature names\n",
      "  warnings.warn(\n",
      "c:\\Users\\nishi\\Downloads\\playground-series-s5e9\\playground-series-s5e9\\venv\\Lib\\site-packages\\sklearn\\utils\\validation.py:2749: UserWarning: X does not have valid feature names, but LGBMRegressor was fitted with feature names\n",
      "  warnings.warn(\n",
      "c:\\Users\\nishi\\Downloads\\playground-series-s5e9\\playground-series-s5e9\\venv\\Lib\\site-packages\\sklearn\\utils\\validation.py:2749: UserWarning: X does not have valid feature names, but LGBMRegressor was fitted with feature names\n",
      "  warnings.warn(\n",
      "c:\\Users\\nishi\\Downloads\\playground-series-s5e9\\playground-series-s5e9\\venv\\Lib\\site-packages\\sklearn\\utils\\validation.py:2749: UserWarning: X does not have valid feature names, but LGBMRegressor was fitted with feature names\n",
      "  warnings.warn(\n",
      "c:\\Users\\nishi\\Downloads\\playground-series-s5e9\\playground-series-s5e9\\venv\\Lib\\site-packages\\sklearn\\utils\\validation.py:2749: UserWarning: X does not have valid feature names, but LGBMRegressor was fitted with feature names\n",
      "  warnings.warn(\n"
     ]
    },
    {
     "name": "stdout",
     "output_type": "stream",
     "text": [
      "Best Weights (5-fold CV-averaged): (0.097, 0.603, 0.297, 0.003), Best CV RMSE: 26.2633\n"
     ]
    }
   ],
   "source": [
    "kf = KFold(n_splits=5, shuffle=True, random_state=42)\n",
    "best_rmse = float('inf')\n",
    "best_weights = None\n",
    "for train_idx, val_idx in kf.split(X_train_scaled):\n",
    "    X_train_fold, X_val_fold = X_train_scaled[train_idx], X_train_scaled[val_idx]\n",
    "    y_train_fold, y_val_fold = y_train.iloc[train_idx], y_train.iloc[val_idx]\n",
    "    \n",
    "    lr_fold_pred = lr.predict(X_val_fold)\n",
    "    rf_fold_pred = rf.predict(X_val_fold)\n",
    "    xgb_fold_pred = xgb_model.predict(X_val_fold)\n",
    "    lgb_fold_pred = lgb_model.predict(X_val_fold)\n",
    "    \n",
    "    weight_combos = [\n",
    "        (0.097, 0.603, 0.297, 0.003), (0.098, 0.602, 0.296, 0.004),\n",
    "        (0.099, 0.601, 0.295, 0.005), (0.100, 0.600, 0.294, 0.006),\n",
    "        (0.097, 0.602, 0.296, 0.005), (0.098, 0.601, 0.295, 0.006)\n",
    "    ]  # (LR, RF, XGB, LGBM) summing to 1\n",
    "    for w_lr, w_rf, w_xgb, w_lgb in weight_combos:\n",
    "        ensemble_fold_pred = (w_lr * lr_fold_pred + w_rf * rf_fold_pred + \n",
    "                             w_xgb * xgb_fold_pred + w_lgb * lgb_fold_pred)\n",
    "        fold_rmse = np.sqrt(mean_squared_error(y_val_fold, ensemble_fold_pred))\n",
    "        if fold_rmse < best_rmse:\n",
    "            best_rmse = fold_rmse\n",
    "            best_weights = (w_lr, w_rf, w_xgb, w_lgb)\n",
    "\n",
    "print(f\"Best Weights (5-fold CV-averaged): {best_weights}, Best CV RMSE: {best_rmse:.4f}\")"
   ]
  },
  {
   "cell_type": "markdown",
   "id": "0cda884b",
   "metadata": {},
   "source": [
    "# Generate test predictions with best weights"
   ]
  },
  {
   "cell_type": "code",
   "execution_count": 12,
   "id": "1757e9a2",
   "metadata": {},
   "outputs": [
    {
     "name": "stderr",
     "output_type": "stream",
     "text": [
      "c:\\Users\\nishi\\Downloads\\playground-series-s5e9\\playground-series-s5e9\\venv\\Lib\\site-packages\\sklearn\\utils\\validation.py:2749: UserWarning: X does not have valid feature names, but LGBMRegressor was fitted with feature names\n",
      "  warnings.warn(\n"
     ]
    },
    {
     "name": "stdout",
     "output_type": "stream",
     "text": [
      "Submission file created: submission_ensemble_densetune.csv\n"
     ]
    }
   ],
   "source": [
    "lr_test_pred = lr.predict(X_test_scaled)\n",
    "rf_test_pred = rf.predict(X_test_scaled)\n",
    "xgb_test_pred = xgb_model.predict(X_test_scaled)\n",
    "lgb_test_pred = lgb_model.predict(X_test_scaled)\n",
    "test_pred = (best_weights[0] * lr_test_pred + best_weights[1] * rf_test_pred + \n",
    "             best_weights[2] * xgb_test_pred + best_weights[3] * lgb_test_pred)\n",
    "submission['BeatsPerMinute'] = test_pred\n",
    "submission.to_csv('submission_ensemble_densetune.csv', index=False)\n",
    "print(\"Submission file created: submission_ensemble_densetune.csv\")"
   ]
  }
 ],
 "metadata": {
  "kernelspec": {
   "display_name": "venv",
   "language": "python",
   "name": "python3"
  },
  "language_info": {
   "codemirror_mode": {
    "name": "ipython",
    "version": 3
   },
   "file_extension": ".py",
   "mimetype": "text/x-python",
   "name": "python",
   "nbconvert_exporter": "python",
   "pygments_lexer": "ipython3",
   "version": "3.11.9"
  }
 },
 "nbformat": 4,
 "nbformat_minor": 5
}
